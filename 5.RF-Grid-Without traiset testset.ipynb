{
 "cells": [
  {
   "cell_type": "code",
   "execution_count": null,
   "metadata": {},
   "outputs": [],
   "source": [
    "import numpy as np\n",
    "import matplotlib.pyplot as plt\n",
    "import pandas as pd"
   ]
  },
  {
   "cell_type": "code",
   "execution_count": null,
   "metadata": {},
   "outputs": [],
   "source": [
    "dataset=pd.read_csv(\"insurance_pre.csv\")"
   ]
  },
  {
   "cell_type": "code",
   "execution_count": null,
   "metadata": {},
   "outputs": [],
   "source": [
    "dataset"
   ]
  },
  {
   "cell_type": "code",
   "execution_count": null,
   "metadata": {},
   "outputs": [],
   "source": [
    "dataset=pd.get_dummies(dataset,drop_first=True)"
   ]
  },
  {
   "cell_type": "code",
   "execution_count": null,
   "metadata": {},
   "outputs": [],
   "source": [
    "dataset"
   ]
  },
  {
   "cell_type": "code",
   "execution_count": null,
   "metadata": {},
   "outputs": [],
   "source": [
    "dataset.columns"
   ]
  },
  {
   "cell_type": "code",
   "execution_count": null,
   "metadata": {},
   "outputs": [],
   "source": [
    "independent=dataset[['age', 'bmi', 'children','sex_male', 'smoker_yes']]"
   ]
  },
  {
   "cell_type": "code",
   "execution_count": null,
   "metadata": {},
   "outputs": [],
   "source": [
    "independent"
   ]
  },
  {
   "cell_type": "code",
   "execution_count": null,
   "metadata": {},
   "outputs": [],
   "source": [
    "dependent=dataset[['charges']]"
   ]
  },
  {
   "cell_type": "code",
   "execution_count": null,
   "metadata": {},
   "outputs": [],
   "source": [
    "dependent"
   ]
  },
  {
   "cell_type": "code",
   "execution_count": null,
   "metadata": {},
   "outputs": [],
   "source": []
  },
  {
   "cell_type": "code",
   "execution_count": null,
   "metadata": {},
   "outputs": [],
   "source": []
  },
  {
   "cell_type": "code",
   "execution_count": 14,
   "metadata": {},
   "outputs": [
    {
     "name": "stderr",
     "output_type": "stream",
     "text": [
      "C:\\Users\\Windows\\Anaconda3\\lib\\site-packages\\sklearn\\model_selection\\_split.py:1978: FutureWarning: The default value of cv will change from 3 to 5 in version 0.22. Specify it explicitly to silence this warning.\n",
      "  warnings.warn(CV_WARNING, FutureWarning)\n",
      "[Parallel(n_jobs=-1)]: Using backend LokyBackend with 4 concurrent workers.\n"
     ]
    },
    {
     "name": "stdout",
     "output_type": "stream",
     "text": [
      "Fitting 3 folds for each of 12 candidates, totalling 36 fits\n"
     ]
    },
    {
     "name": "stderr",
     "output_type": "stream",
     "text": [
      "[Parallel(n_jobs=-1)]: Done  16 out of  36 | elapsed:    1.6s remaining:    2.0s\n",
      "[Parallel(n_jobs=-1)]: Done  36 out of  36 | elapsed:   26.1s finished\n"
     ]
    },
    {
     "data": {
      "text/plain": [
       "GridSearchCV(cv='warn', error_score='raise-deprecating',\n",
       "             estimator=RandomForestRegressor(bootstrap=True, criterion='mse',\n",
       "                                             max_depth=None,\n",
       "                                             max_features='auto',\n",
       "                                             max_leaf_nodes=None,\n",
       "                                             min_impurity_decrease=0.0,\n",
       "                                             min_impurity_split=None,\n",
       "                                             min_samples_leaf=1,\n",
       "                                             min_samples_split=2,\n",
       "                                             min_weight_fraction_leaf=0.0,\n",
       "                                             n_estimators='warn', n_jobs=None,\n",
       "                                             oob_score=False, random_state=None,\n",
       "                                             verbose=0, warm_start=False),\n",
       "             iid='warn', n_jobs=-1,\n",
       "             param_grid={'criterion': ['mse', 'mae'],\n",
       "                         'max_features': ['auto', 'sqrt', 'log2'],\n",
       "                         'n_estimators': [10, 100]},\n",
       "             pre_dispatch='2*n_jobs', refit=True, return_train_score=False,\n",
       "             scoring=None, verbose=3)"
      ]
     },
     "execution_count": 14,
     "metadata": {},
     "output_type": "execute_result"
    }
   ],
   "source": [
    "\n",
    "from sklearn.ensemble import RandomForestRegressor\n",
    "from sklearn.model_selection import GridSearchCV\n",
    "param_grid={'criterion':['mse','mae'],'max_features':['auto','sqrt','log2'],'n_estimators':[10,100]}\n",
    "grid=GridSearchCV(RandomForestRegressor(),param_grid,refit=True,verbose=3,n_jobs=-1)\n",
    "grid.fit(independent,independent)\n"
   ]
  },
  {
   "cell_type": "code",
   "execution_count": 13,
   "metadata": {},
   "outputs": [
    {
     "name": "stdout",
     "output_type": "stream",
     "text": [
      "The R_score value for best parameter {'criterion': 'mae', 'max_features': 'auto', 'n_estimators': 100}:\n"
     ]
    }
   ],
   "source": [
    "re=grid.cv_results_\n",
    "\n",
    "print(\"The R_score value for best parameter {}:\".format(grid.best_params_))"
   ]
  },
  {
   "cell_type": "code",
   "execution_count": 15,
   "metadata": {},
   "outputs": [],
   "source": [
    "table=pd.DataFrame.from_dict(re)"
   ]
  },
  {
   "cell_type": "code",
   "execution_count": 16,
   "metadata": {},
   "outputs": [
    {
     "data": {
      "text/html": [
       "<div>\n",
       "<style scoped>\n",
       "    .dataframe tbody tr th:only-of-type {\n",
       "        vertical-align: middle;\n",
       "    }\n",
       "\n",
       "    .dataframe tbody tr th {\n",
       "        vertical-align: top;\n",
       "    }\n",
       "\n",
       "    .dataframe thead th {\n",
       "        text-align: right;\n",
       "    }\n",
       "</style>\n",
       "<table border=\"1\" class=\"dataframe\">\n",
       "  <thead>\n",
       "    <tr style=\"text-align: right;\">\n",
       "      <th></th>\n",
       "      <th>mean_fit_time</th>\n",
       "      <th>std_fit_time</th>\n",
       "      <th>mean_score_time</th>\n",
       "      <th>std_score_time</th>\n",
       "      <th>param_criterion</th>\n",
       "      <th>param_max_features</th>\n",
       "      <th>param_n_estimators</th>\n",
       "      <th>params</th>\n",
       "      <th>split0_test_score</th>\n",
       "      <th>split1_test_score</th>\n",
       "      <th>split2_test_score</th>\n",
       "      <th>mean_test_score</th>\n",
       "      <th>std_test_score</th>\n",
       "      <th>rank_test_score</th>\n",
       "    </tr>\n",
       "  </thead>\n",
       "  <tbody>\n",
       "    <tr>\n",
       "      <td>0</td>\n",
       "      <td>0.088520</td>\n",
       "      <td>1.472824e-02</td>\n",
       "      <td>0.046865</td>\n",
       "      <td>2.209091e-02</td>\n",
       "      <td>mse</td>\n",
       "      <td>auto</td>\n",
       "      <td>10</td>\n",
       "      <td>{'criterion': 'mse', 'max_features': 'auto', '...</td>\n",
       "      <td>0.992799</td>\n",
       "      <td>0.991752</td>\n",
       "      <td>0.991315</td>\n",
       "      <td>0.991955</td>\n",
       "      <td>0.000623</td>\n",
       "      <td>3</td>\n",
       "    </tr>\n",
       "    <tr>\n",
       "      <td>1</td>\n",
       "      <td>0.567575</td>\n",
       "      <td>1.948376e-02</td>\n",
       "      <td>0.041659</td>\n",
       "      <td>7.363785e-03</td>\n",
       "      <td>mse</td>\n",
       "      <td>auto</td>\n",
       "      <td>100</td>\n",
       "      <td>{'criterion': 'mse', 'max_features': 'auto', '...</td>\n",
       "      <td>0.994205</td>\n",
       "      <td>0.993126</td>\n",
       "      <td>0.992087</td>\n",
       "      <td>0.993139</td>\n",
       "      <td>0.000864</td>\n",
       "      <td>2</td>\n",
       "    </tr>\n",
       "    <tr>\n",
       "      <td>2</td>\n",
       "      <td>0.046863</td>\n",
       "      <td>2.973602e-07</td>\n",
       "      <td>0.015622</td>\n",
       "      <td>2.973602e-07</td>\n",
       "      <td>mse</td>\n",
       "      <td>sqrt</td>\n",
       "      <td>10</td>\n",
       "      <td>{'criterion': 'mse', 'max_features': 'sqrt', '...</td>\n",
       "      <td>0.976215</td>\n",
       "      <td>0.979832</td>\n",
       "      <td>0.980498</td>\n",
       "      <td>0.978848</td>\n",
       "      <td>0.001882</td>\n",
       "      <td>11</td>\n",
       "    </tr>\n",
       "    <tr>\n",
       "      <td>3</td>\n",
       "      <td>0.432189</td>\n",
       "      <td>1.948310e-02</td>\n",
       "      <td>0.052071</td>\n",
       "      <td>2.945604e-02</td>\n",
       "      <td>mse</td>\n",
       "      <td>sqrt</td>\n",
       "      <td>100</td>\n",
       "      <td>{'criterion': 'mse', 'max_features': 'sqrt', '...</td>\n",
       "      <td>0.987592</td>\n",
       "      <td>0.987958</td>\n",
       "      <td>0.985928</td>\n",
       "      <td>0.987159</td>\n",
       "      <td>0.000883</td>\n",
       "      <td>7</td>\n",
       "    </tr>\n",
       "    <tr>\n",
       "      <td>4</td>\n",
       "      <td>0.046863</td>\n",
       "      <td>1.123916e-07</td>\n",
       "      <td>0.036450</td>\n",
       "      <td>2.655130e-02</td>\n",
       "      <td>mse</td>\n",
       "      <td>log2</td>\n",
       "      <td>10</td>\n",
       "      <td>{'criterion': 'mse', 'max_features': 'log2', '...</td>\n",
       "      <td>0.978853</td>\n",
       "      <td>0.980725</td>\n",
       "      <td>0.977563</td>\n",
       "      <td>0.979047</td>\n",
       "      <td>0.001298</td>\n",
       "      <td>10</td>\n",
       "    </tr>\n",
       "    <tr>\n",
       "      <td>5</td>\n",
       "      <td>0.432191</td>\n",
       "      <td>7.363335e-03</td>\n",
       "      <td>0.026036</td>\n",
       "      <td>7.364010e-03</td>\n",
       "      <td>mse</td>\n",
       "      <td>log2</td>\n",
       "      <td>100</td>\n",
       "      <td>{'criterion': 'mse', 'max_features': 'log2', '...</td>\n",
       "      <td>0.987654</td>\n",
       "      <td>0.987527</td>\n",
       "      <td>0.987178</td>\n",
       "      <td>0.987453</td>\n",
       "      <td>0.000201</td>\n",
       "      <td>5</td>\n",
       "    </tr>\n",
       "    <tr>\n",
       "      <td>6</td>\n",
       "      <td>1.010179</td>\n",
       "      <td>1.472785e-02</td>\n",
       "      <td>0.015625</td>\n",
       "      <td>1.784161e-06</td>\n",
       "      <td>mae</td>\n",
       "      <td>auto</td>\n",
       "      <td>10</td>\n",
       "      <td>{'criterion': 'mae', 'max_features': 'auto', '...</td>\n",
       "      <td>0.993004</td>\n",
       "      <td>0.991596</td>\n",
       "      <td>0.990633</td>\n",
       "      <td>0.991744</td>\n",
       "      <td>0.000974</td>\n",
       "      <td>4</td>\n",
       "    </tr>\n",
       "    <tr>\n",
       "      <td>7</td>\n",
       "      <td>9.872682</td>\n",
       "      <td>3.374746e-02</td>\n",
       "      <td>0.026036</td>\n",
       "      <td>7.364010e-03</td>\n",
       "      <td>mae</td>\n",
       "      <td>auto</td>\n",
       "      <td>100</td>\n",
       "      <td>{'criterion': 'mae', 'max_features': 'auto', '...</td>\n",
       "      <td>0.994226</td>\n",
       "      <td>0.993647</td>\n",
       "      <td>0.992661</td>\n",
       "      <td>0.993512</td>\n",
       "      <td>0.000646</td>\n",
       "      <td>1</td>\n",
       "    </tr>\n",
       "    <tr>\n",
       "      <td>8</td>\n",
       "      <td>0.531124</td>\n",
       "      <td>1.275474e-02</td>\n",
       "      <td>0.005207</td>\n",
       "      <td>7.363897e-03</td>\n",
       "      <td>mae</td>\n",
       "      <td>sqrt</td>\n",
       "      <td>10</td>\n",
       "      <td>{'criterion': 'mae', 'max_features': 'sqrt', '...</td>\n",
       "      <td>0.967639</td>\n",
       "      <td>0.980242</td>\n",
       "      <td>0.981971</td>\n",
       "      <td>0.976617</td>\n",
       "      <td>0.006388</td>\n",
       "      <td>12</td>\n",
       "    </tr>\n",
       "    <tr>\n",
       "      <td>9</td>\n",
       "      <td>5.200323</td>\n",
       "      <td>3.202053e-02</td>\n",
       "      <td>0.020829</td>\n",
       "      <td>7.364459e-03</td>\n",
       "      <td>mae</td>\n",
       "      <td>sqrt</td>\n",
       "      <td>100</td>\n",
       "      <td>{'criterion': 'mae', 'max_features': 'sqrt', '...</td>\n",
       "      <td>0.987629</td>\n",
       "      <td>0.987586</td>\n",
       "      <td>0.986443</td>\n",
       "      <td>0.987219</td>\n",
       "      <td>0.000549</td>\n",
       "      <td>6</td>\n",
       "    </tr>\n",
       "    <tr>\n",
       "      <td>10</td>\n",
       "      <td>0.517316</td>\n",
       "      <td>1.502898e-02</td>\n",
       "      <td>0.010415</td>\n",
       "      <td>7.364516e-03</td>\n",
       "      <td>mae</td>\n",
       "      <td>log2</td>\n",
       "      <td>10</td>\n",
       "      <td>{'criterion': 'mae', 'max_features': 'log2', '...</td>\n",
       "      <td>0.984055</td>\n",
       "      <td>0.979500</td>\n",
       "      <td>0.980465</td>\n",
       "      <td>0.981340</td>\n",
       "      <td>0.001960</td>\n",
       "      <td>9</td>\n",
       "    </tr>\n",
       "    <tr>\n",
       "      <td>11</td>\n",
       "      <td>4.917563</td>\n",
       "      <td>2.839928e-01</td>\n",
       "      <td>0.020829</td>\n",
       "      <td>7.364684e-03</td>\n",
       "      <td>mae</td>\n",
       "      <td>log2</td>\n",
       "      <td>100</td>\n",
       "      <td>{'criterion': 'mae', 'max_features': 'log2', '...</td>\n",
       "      <td>0.987132</td>\n",
       "      <td>0.987043</td>\n",
       "      <td>0.986007</td>\n",
       "      <td>0.986727</td>\n",
       "      <td>0.000511</td>\n",
       "      <td>8</td>\n",
       "    </tr>\n",
       "  </tbody>\n",
       "</table>\n",
       "</div>"
      ],
      "text/plain": [
       "    mean_fit_time  std_fit_time  mean_score_time  std_score_time  \\\n",
       "0        0.088520  1.472824e-02         0.046865    2.209091e-02   \n",
       "1        0.567575  1.948376e-02         0.041659    7.363785e-03   \n",
       "2        0.046863  2.973602e-07         0.015622    2.973602e-07   \n",
       "3        0.432189  1.948310e-02         0.052071    2.945604e-02   \n",
       "4        0.046863  1.123916e-07         0.036450    2.655130e-02   \n",
       "5        0.432191  7.363335e-03         0.026036    7.364010e-03   \n",
       "6        1.010179  1.472785e-02         0.015625    1.784161e-06   \n",
       "7        9.872682  3.374746e-02         0.026036    7.364010e-03   \n",
       "8        0.531124  1.275474e-02         0.005207    7.363897e-03   \n",
       "9        5.200323  3.202053e-02         0.020829    7.364459e-03   \n",
       "10       0.517316  1.502898e-02         0.010415    7.364516e-03   \n",
       "11       4.917563  2.839928e-01         0.020829    7.364684e-03   \n",
       "\n",
       "   param_criterion param_max_features param_n_estimators  \\\n",
       "0              mse               auto                 10   \n",
       "1              mse               auto                100   \n",
       "2              mse               sqrt                 10   \n",
       "3              mse               sqrt                100   \n",
       "4              mse               log2                 10   \n",
       "5              mse               log2                100   \n",
       "6              mae               auto                 10   \n",
       "7              mae               auto                100   \n",
       "8              mae               sqrt                 10   \n",
       "9              mae               sqrt                100   \n",
       "10             mae               log2                 10   \n",
       "11             mae               log2                100   \n",
       "\n",
       "                                               params  split0_test_score  \\\n",
       "0   {'criterion': 'mse', 'max_features': 'auto', '...           0.992799   \n",
       "1   {'criterion': 'mse', 'max_features': 'auto', '...           0.994205   \n",
       "2   {'criterion': 'mse', 'max_features': 'sqrt', '...           0.976215   \n",
       "3   {'criterion': 'mse', 'max_features': 'sqrt', '...           0.987592   \n",
       "4   {'criterion': 'mse', 'max_features': 'log2', '...           0.978853   \n",
       "5   {'criterion': 'mse', 'max_features': 'log2', '...           0.987654   \n",
       "6   {'criterion': 'mae', 'max_features': 'auto', '...           0.993004   \n",
       "7   {'criterion': 'mae', 'max_features': 'auto', '...           0.994226   \n",
       "8   {'criterion': 'mae', 'max_features': 'sqrt', '...           0.967639   \n",
       "9   {'criterion': 'mae', 'max_features': 'sqrt', '...           0.987629   \n",
       "10  {'criterion': 'mae', 'max_features': 'log2', '...           0.984055   \n",
       "11  {'criterion': 'mae', 'max_features': 'log2', '...           0.987132   \n",
       "\n",
       "    split1_test_score  split2_test_score  mean_test_score  std_test_score  \\\n",
       "0            0.991752           0.991315         0.991955        0.000623   \n",
       "1            0.993126           0.992087         0.993139        0.000864   \n",
       "2            0.979832           0.980498         0.978848        0.001882   \n",
       "3            0.987958           0.985928         0.987159        0.000883   \n",
       "4            0.980725           0.977563         0.979047        0.001298   \n",
       "5            0.987527           0.987178         0.987453        0.000201   \n",
       "6            0.991596           0.990633         0.991744        0.000974   \n",
       "7            0.993647           0.992661         0.993512        0.000646   \n",
       "8            0.980242           0.981971         0.976617        0.006388   \n",
       "9            0.987586           0.986443         0.987219        0.000549   \n",
       "10           0.979500           0.980465         0.981340        0.001960   \n",
       "11           0.987043           0.986007         0.986727        0.000511   \n",
       "\n",
       "    rank_test_score  \n",
       "0                 3  \n",
       "1                 2  \n",
       "2                11  \n",
       "3                 7  \n",
       "4                10  \n",
       "5                 5  \n",
       "6                 4  \n",
       "7                 1  \n",
       "8                12  \n",
       "9                 6  \n",
       "10                9  \n",
       "11                8  "
      ]
     },
     "execution_count": 16,
     "metadata": {},
     "output_type": "execute_result"
    }
   ],
   "source": [
    "table"
   ]
  },
  {
   "cell_type": "code",
   "execution_count": 17,
   "metadata": {},
   "outputs": [
    {
     "name": "stdout",
     "output_type": "stream",
     "text": [
      "Age:34\n",
      "BMI:27\n",
      "Childern:3\n",
      "Sex Male 0 or 1 :1\n",
      "Smoker Yes 0 or 1 :1\n"
     ]
    }
   ],
   "source": [
    "age_input=float(input(\"Age:\"))\n",
    "bmi_input=float(input(\"BMI:\"))\n",
    "childern_input=float(input(\"Childern:\"))\n",
    "sex_male_input=float(input(\"Sex Male 0 or 1 :\"))\n",
    "smoker_yes_input=float(input(\"Smoker Yes 0 or 1 :\"))"
   ]
  },
  {
   "cell_type": "code",
   "execution_count": 18,
   "metadata": {},
   "outputs": [
    {
     "name": "stdout",
     "output_type": "stream",
     "text": [
      "Future_Prediction=[[34.44    27.61345  2.28     0.85     0.34   ]]\n"
     ]
    }
   ],
   "source": [
    "Future_Prediction=grid.predict([[age_input,bmi_input,childern_input,sex_male_input,smoker_yes_input]])\n",
    "print(\"Future_Prediction={}\".format(Future_Prediction))"
   ]
  },
  {
   "cell_type": "code",
   "execution_count": null,
   "metadata": {},
   "outputs": [],
   "source": []
  }
 ],
 "metadata": {
  "kernelspec": {
   "display_name": "Python 3",
   "language": "python",
   "name": "python3"
  },
  "language_info": {
   "codemirror_mode": {
    "name": "ipython",
    "version": 3
   },
   "file_extension": ".py",
   "mimetype": "text/x-python",
   "name": "python",
   "nbconvert_exporter": "python",
   "pygments_lexer": "ipython3",
   "version": "3.7.4"
  }
 },
 "nbformat": 4,
 "nbformat_minor": 2
}
